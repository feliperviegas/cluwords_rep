{
 "cells": [
  {
   "cell_type": "code",
   "execution_count": 1,
   "metadata": {},
   "outputs": [],
   "source": [
    "import pandas as pd\n",
    "import numpy as np\n",
    "from sklearn.decomposition import NMF"
   ]
  },
  {
   "cell_type": "code",
   "execution_count": 14,
   "metadata": {},
   "outputs": [
    {
     "data": {
      "text/html": [
       "<div>\n",
       "<style scoped>\n",
       "    .dataframe tbody tr th:only-of-type {\n",
       "        vertical-align: middle;\n",
       "    }\n",
       "\n",
       "    .dataframe tbody tr th {\n",
       "        vertical-align: top;\n",
       "    }\n",
       "\n",
       "    .dataframe thead th {\n",
       "        text-align: right;\n",
       "    }\n",
       "</style>\n",
       "<table border=\"1\" class=\"dataframe\">\n",
       "  <thead>\n",
       "    <tr style=\"text-align: right;\">\n",
       "      <th></th>\n",
       "      <th>text</th>\n",
       "      <th>cluwords_textual_repr</th>\n",
       "      <th>cluwords_repr</th>\n",
       "    </tr>\n",
       "  </thead>\n",
       "  <tbody>\n",
       "    <tr>\n",
       "      <th>0</th>\n",
       "      <td>[concept, concept, function, makes, remembering]</td>\n",
       "      <td>[emailing, stored, holding, reminding, telling...</td>\n",
       "      <td>[0.0, 0.0, 0.96, 0.0, 0.47, 0.88, 0.0, 0.0, 0....</td>\n",
       "    </tr>\n",
       "    <tr>\n",
       "      <th>1</th>\n",
       "      <td>[older, factory, refurbished, older, run, make...</td>\n",
       "      <td>[consumer, names, pricing, rating, person, des...</td>\n",
       "      <td>[0.0, 0.43, 0.0, 0.0, 1.0699999, 0.0, 0.0, 0.4...</td>\n",
       "    </tr>\n",
       "    <tr>\n",
       "      <th>2</th>\n",
       "      <td>[work, showed, sliding, logo]</td>\n",
       "      <td>[rights, texts, revise, son, continuously, doc...</td>\n",
       "      <td>[0.0, 0.82, 0.49, 0.0, 0.46, 0.44, 0.0, 0.0, 0...</td>\n",
       "    </tr>\n",
       "    <tr>\n",
       "      <th>3</th>\n",
       "      <td>[longer, print, spreadsheets, print, schedule,...</td>\n",
       "      <td>[footer, zoom, annotating, dialog, specificall...</td>\n",
       "      <td>[0.0, 2.1, 0.0, 0.0, 2.01, 0.52, 0.0, 0.43, 0....</td>\n",
       "    </tr>\n",
       "    <tr>\n",
       "      <th>4</th>\n",
       "      <td>[design, website, cartoon, style]</td>\n",
       "      <td>[rights, spreadsheet, footer, emailing, instan...</td>\n",
       "      <td>[0.0, 0.46, 0.0, 0.0, 0.0, 0.45, 0.0, 0.45, 0....</td>\n",
       "    </tr>\n",
       "    <tr>\n",
       "      <th>5</th>\n",
       "      <td>[updating, evolving]</td>\n",
       "      <td>[infinitely, newest, living, larger, future, c...</td>\n",
       "      <td>[0.0, 0.0, 0.0, 0.0, 0.0, 0.0, 0.0, 0.0, 0.96,...</td>\n",
       "    </tr>\n",
       "    <tr>\n",
       "      <th>6</th>\n",
       "      <td>[simple, simple, designed, synced, desktop]</td>\n",
       "      <td>[counted, tagged, enabled, captured, viewed, r...</td>\n",
       "      <td>[0.0, 0.0, 0.0, 0.0, 0.0, 0.0, 0.0, 1.41, 0.0,...</td>\n",
       "    </tr>\n",
       "    <tr>\n",
       "      <th>7</th>\n",
       "      <td>[works, people, owns, resolution, potato, buil...</td>\n",
       "      <td>[resolution, file, zoom, response, detail, ban...</td>\n",
       "      <td>[0.0, 1.92, 0.87, 0.0, 0.0, 1.49, 0.0, 0.0, 0....</td>\n",
       "    </tr>\n",
       "    <tr>\n",
       "      <th>8</th>\n",
       "      <td>[handy]</td>\n",
       "      <td>[clue, glaring, affordable, loaded, jarring, c...</td>\n",
       "      <td>[0.0, 0.0, 0.0, 0.0, 0.0, 0.0, 0.0, 0.43, 0.0,...</td>\n",
       "    </tr>\n",
       "    <tr>\n",
       "      <th>9</th>\n",
       "      <td>[photos, automatically, phone]</td>\n",
       "      <td>[spreadsheet, consumer, location, emailing, sa...</td>\n",
       "      <td>[0.0, 0.54, 0.0, 0.0, 0.0, 0.0, 0.0, 0.0, 0.0,...</td>\n",
       "    </tr>\n",
       "  </tbody>\n",
       "</table>\n",
       "</div>"
      ],
      "text/plain": [
       "                                                text  \\\n",
       "0   [concept, concept, function, makes, remembering]   \n",
       "1  [older, factory, refurbished, older, run, make...   \n",
       "2                      [work, showed, sliding, logo]   \n",
       "3  [longer, print, spreadsheets, print, schedule,...   \n",
       "4                  [design, website, cartoon, style]   \n",
       "5                               [updating, evolving]   \n",
       "6        [simple, simple, designed, synced, desktop]   \n",
       "7  [works, people, owns, resolution, potato, buil...   \n",
       "8                                            [handy]   \n",
       "9                     [photos, automatically, phone]   \n",
       "\n",
       "                               cluwords_textual_repr  \\\n",
       "0  [emailing, stored, holding, reminding, telling...   \n",
       "1  [consumer, names, pricing, rating, person, des...   \n",
       "2  [rights, texts, revise, son, continuously, doc...   \n",
       "3  [footer, zoom, annotating, dialog, specificall...   \n",
       "4  [rights, spreadsheet, footer, emailing, instan...   \n",
       "5  [infinitely, newest, living, larger, future, c...   \n",
       "6  [counted, tagged, enabled, captured, viewed, r...   \n",
       "7  [resolution, file, zoom, response, detail, ban...   \n",
       "8  [clue, glaring, affordable, loaded, jarring, c...   \n",
       "9  [spreadsheet, consumer, location, emailing, sa...   \n",
       "\n",
       "                                       cluwords_repr  \n",
       "0  [0.0, 0.0, 0.96, 0.0, 0.47, 0.88, 0.0, 0.0, 0....  \n",
       "1  [0.0, 0.43, 0.0, 0.0, 1.0699999, 0.0, 0.0, 0.4...  \n",
       "2  [0.0, 0.82, 0.49, 0.0, 0.46, 0.44, 0.0, 0.0, 0...  \n",
       "3  [0.0, 2.1, 0.0, 0.0, 2.01, 0.52, 0.0, 0.43, 0....  \n",
       "4  [0.0, 0.46, 0.0, 0.0, 0.0, 0.45, 0.0, 0.45, 0....  \n",
       "5  [0.0, 0.0, 0.0, 0.0, 0.0, 0.0, 0.0, 0.0, 0.96,...  \n",
       "6  [0.0, 0.0, 0.0, 0.0, 0.0, 0.0, 0.0, 1.41, 0.0,...  \n",
       "7  [0.0, 1.92, 0.87, 0.0, 0.0, 1.49, 0.0, 0.0, 0....  \n",
       "8  [0.0, 0.0, 0.0, 0.0, 0.0, 0.0, 0.0, 0.43, 0.0,...  \n",
       "9  [0.0, 0.54, 0.0, 0.0, 0.0, 0.0, 0.0, 0.0, 0.0,...  "
      ]
     },
     "execution_count": 14,
     "metadata": {},
     "output_type": "execute_result"
    }
   ],
   "source": [
    "data_path = f\"..\\\\data_output\\\\cw_repr_thresh_0.4_dropPre.parquet\"\n",
    "\n",
    "data = pd.read_parquet(data_path)\n",
    "\n",
    "data.head(10)"
   ]
  },
  {
   "cell_type": "code",
   "execution_count": 10,
   "metadata": {},
   "outputs": [
    {
     "data": {
      "text/plain": [
       "(1909, 2425)"
      ]
     },
     "execution_count": 10,
     "metadata": {},
     "output_type": "execute_result"
    }
   ],
   "source": [
    "dtype = np.float32\n",
    "cluwords_repr = np.asarray([np.asarray(text, dtype=dtype) for text in data[\"cluwords_repr\"].values], dtype=dtype)\n",
    "\n",
    "cluwords_repr.shape"
   ]
  },
  {
   "cell_type": "code",
   "execution_count": 11,
   "metadata": {},
   "outputs": [],
   "source": [
    "model = NMF(n_components=2, init='random', random_state=42)\n",
    "\n",
    "W = model.fit_transform(cluwords_repr)"
   ]
  },
  {
   "cell_type": "code",
   "execution_count": 12,
   "metadata": {},
   "outputs": [],
   "source": [
    "H = model.components_"
   ]
  }
 ],
 "metadata": {
  "kernelspec": {
   "display_name": "cluwords-5TcCA87J-py3.9",
   "language": "python",
   "name": "python3"
  },
  "language_info": {
   "codemirror_mode": {
    "name": "ipython",
    "version": 3
   },
   "file_extension": ".py",
   "mimetype": "text/x-python",
   "name": "python",
   "nbconvert_exporter": "python",
   "pygments_lexer": "ipython3",
   "version": "3.9.18"
  }
 },
 "nbformat": 4,
 "nbformat_minor": 2
}
